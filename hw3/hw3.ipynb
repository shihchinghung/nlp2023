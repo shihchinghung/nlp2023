{
 "cells": [
  {
   "cell_type": "markdown",
   "id": "6c3a1453",
   "metadata": {},
   "source": [
    "# SVM"
   ]
  },
  {
   "cell_type": "markdown",
   "id": "e9eafde9",
   "metadata": {},
   "source": [
    "### kernel = linear"
   ]
  },
  {
   "cell_type": "code",
   "execution_count": 14,
   "id": "26bc47d1",
   "metadata": {},
   "outputs": [
    {
     "name": "stdout",
     "output_type": "stream",
     "text": [
      "Prediction Precision: 48.00%\n"
     ]
    }
   ],
   "source": [
    "import json\n",
    "import random\n",
    "from sklearn.feature_extraction.text import CountVectorizer, TfidfTransformer\n",
    "from sklearn.svm import SVC\n",
    "from sklearn.metrics import accuracy_score, classification_report\n",
    "\n",
    "with open('15152.json', 'r', encoding='utf-8') as f:\n",
    "    movie_list = json.load(f)\n",
    "\n",
    "train_data = []\n",
    "train_labels = []\n",
    "test_data = []\n",
    "test_labels = []\n",
    "for i, movie in enumerate(movie_list):\n",
    "    if movie['label'] is not None and movie['intro'] is not None:\n",
    "        if i < 5500: # train\n",
    "            train_data.append(movie['intro'])\n",
    "            train_labels.append(movie['label'])\n",
    "        elif i > 5500 and i < 6001: # test\n",
    "            test_data.append(movie['intro'])\n",
    "            test_labels.append(movie['label'])\n",
    "\n",
    "combined = list(zip(train_data, train_labels)) # 打亂順序\n",
    "random.shuffle(combined)\n",
    "train_data[:], train_labels[:] = zip(*combined)\n",
    "\n",
    "vectorizer = CountVectorizer() # 特徵向量 TD-IDF\n",
    "tfidf_transformer = TfidfTransformer()\n",
    "X_train = tfidf_transformer.fit_transform(vectorizer.fit_transform(train_data))\n",
    "y_train = train_labels\n",
    "\n",
    "clf = SVC(kernel='linear')\n",
    "clf.fit(X_train, y_train)\n",
    "\n",
    "X_test = tfidf_transformer.transform(vectorizer.transform(test_data))\n",
    "y_pred = clf.predict(X_test)\n",
    "\n",
    "accuracy = accuracy_score(test_labels, y_pred)\n",
    "print(f\"Prediction Precision: {accuracy:.2%}\")"
   ]
  },
  {
   "cell_type": "markdown",
   "id": "b0120487",
   "metadata": {},
   "source": [
    "### kernel = poly"
   ]
  },
  {
   "cell_type": "code",
   "execution_count": 15,
   "id": "972fa2d6",
   "metadata": {},
   "outputs": [
    {
     "name": "stdout",
     "output_type": "stream",
     "text": [
      "Prediction Precision: 43.00%\n"
     ]
    }
   ],
   "source": [
    "import json\n",
    "import random\n",
    "from sklearn.feature_extraction.text import CountVectorizer, TfidfTransformer\n",
    "from sklearn.svm import SVC\n",
    "from sklearn.metrics import accuracy_score, classification_report\n",
    "\n",
    "with open('15152.json', 'r', encoding='utf-8') as f:\n",
    "    movie_list = json.load(f)\n",
    "\n",
    "train_data = []\n",
    "train_labels = []\n",
    "test_data = []\n",
    "test_labels = []\n",
    "for i, movie in enumerate(movie_list):\n",
    "    if movie['label'] is not None and movie['intro'] is not None:\n",
    "        if i < 5500: #train\n",
    "            train_data.append(movie['intro'])\n",
    "            train_labels.append(movie['label'])\n",
    "        elif i > 5500 and i < 6001: # test\n",
    "            test_data.append(movie['intro'])\n",
    "            test_labels.append(movie['label'])\n",
    "\n",
    "combined = list(zip(train_data, train_labels)) # 打亂順序\n",
    "random.shuffle(combined)\n",
    "train_data[:], train_labels[:] = zip(*combined)\n",
    "\n",
    "vectorizer = CountVectorizer() # 特徵向量 TD-IDF\n",
    "tfidf_transformer = TfidfTransformer()\n",
    "X_train = tfidf_transformer.fit_transform(vectorizer.fit_transform(train_data))\n",
    "y_train = train_labels\n",
    "\n",
    "clf = SVC(kernel='poly')\n",
    "clf.fit(X_train, y_train)\n",
    "\n",
    "X_test = tfidf_transformer.transform(vectorizer.transform(test_data))\n",
    "y_pred = clf.predict(X_test)\n",
    "\n",
    "accuracy = accuracy_score(test_labels, y_pred)\n",
    "print(f\"Prediction Precision: {accuracy:.2%}\")"
   ]
  },
  {
   "cell_type": "markdown",
   "id": "9a810f9a",
   "metadata": {},
   "source": [
    "### kernel = rbf"
   ]
  },
  {
   "cell_type": "code",
   "execution_count": 17,
   "id": "07d65411",
   "metadata": {},
   "outputs": [
    {
     "name": "stdout",
     "output_type": "stream",
     "text": [
      "Prediction Precision: 43.60%\n"
     ]
    }
   ],
   "source": [
    "import json\n",
    "import random\n",
    "from sklearn.feature_extraction.text import CountVectorizer, TfidfTransformer\n",
    "from sklearn.svm import SVC\n",
    "from sklearn.metrics import accuracy_score, classification_report\n",
    "\n",
    "with open('15152.json', 'r', encoding='utf-8') as f:\n",
    "    movie_list = json.load(f)\n",
    "\n",
    "train_data = []\n",
    "train_labels = []\n",
    "test_data = []\n",
    "test_labels = []\n",
    "for i, movie in enumerate(movie_list):\n",
    "    if movie['label'] is not None and movie['intro'] is not None:\n",
    "        if i < 5500: #train\n",
    "            train_data.append(movie['intro'])\n",
    "            train_labels.append(movie['label'])\n",
    "        elif i > 5500 and i < 6001: # test\n",
    "            test_data.append(movie['intro'])\n",
    "            test_labels.append(movie['label'])\n",
    "\n",
    "combined = list(zip(train_data, train_labels)) # 打亂順序\n",
    "random.shuffle(combined)\n",
    "train_data[:], train_labels[:] = zip(*combined)\n",
    "\n",
    "vectorizer = CountVectorizer() # 特徵向量 TD-IDF\n",
    "tfidf_transformer = TfidfTransformer()\n",
    "X_train = tfidf_transformer.fit_transform(vectorizer.fit_transform(train_data))\n",
    "y_train = train_labels\n",
    "\n",
    "clf = SVC(kernel='rbf')\n",
    "clf.fit(X_train, y_train)\n",
    "\n",
    "X_test = tfidf_transformer.transform(vectorizer.transform(test_data))\n",
    "y_pred = clf.predict(X_test)\n",
    "\n",
    "accuracy = accuracy_score(test_labels, y_pred)\n",
    "print(f\"Prediction Precision: {accuracy:.2%}\")"
   ]
  },
  {
   "cell_type": "markdown",
   "id": "6da1d8a0",
   "metadata": {},
   "source": [
    "### kernel = sigmoid"
   ]
  },
  {
   "cell_type": "code",
   "execution_count": 21,
   "id": "c608399a",
   "metadata": {},
   "outputs": [
    {
     "name": "stdout",
     "output_type": "stream",
     "text": [
      "Prediction Precision: 47.60%\n"
     ]
    }
   ],
   "source": [
    "import json\n",
    "import random\n",
    "from sklearn.feature_extraction.text import CountVectorizer, TfidfTransformer\n",
    "from sklearn.svm import SVC\n",
    "from sklearn.metrics import accuracy_score, classification_report\n",
    "\n",
    "with open('15152.json', 'r', encoding='utf-8') as f:\n",
    "    movie_list = json.load(f)\n",
    "\n",
    "train_data = []\n",
    "train_labels = []\n",
    "test_data = []\n",
    "test_labels = []\n",
    "for i, movie in enumerate(movie_list):\n",
    "    if movie['label'] is not None and movie['intro'] is not None:\n",
    "        if i < 5500: #train\n",
    "            train_data.append(movie['intro'])\n",
    "            train_labels.append(movie['label'])\n",
    "        elif i > 5500 and i < 6001: # test\n",
    "            test_data.append(movie['intro'])\n",
    "            test_labels.append(movie['label'])\n",
    "\n",
    "combined = list(zip(train_data, train_labels)) # 打亂順序\n",
    "random.shuffle(combined)\n",
    "train_data[:], train_labels[:] = zip(*combined)\n",
    "\n",
    "vectorizer = CountVectorizer() # 特徵向量 TD-IDF\n",
    "tfidf_transformer = TfidfTransformer()\n",
    "X_train = tfidf_transformer.fit_transform(vectorizer.fit_transform(train_data))\n",
    "y_train = train_labels\n",
    "\n",
    "clf = SVC(kernel='sigmoid')\n",
    "clf.fit(X_train, y_train)\n",
    "\n",
    "X_test = tfidf_transformer.transform(vectorizer.transform(test_data))\n",
    "y_pred = clf.predict(X_test)\n",
    "\n",
    "accuracy = accuracy_score(test_labels, y_pred)\n",
    "print(f\"Prediction Precision: {accuracy:.2%}\")"
   ]
  },
  {
   "cell_type": "markdown",
   "id": "da0869c2",
   "metadata": {},
   "source": [
    "# KNN"
   ]
  },
  {
   "cell_type": "code",
   "execution_count": 19,
   "id": "144c91c5",
   "metadata": {},
   "outputs": [],
   "source": [
    "import warnings\n",
    "warnings.filterwarnings(\"ignore\")"
   ]
  },
  {
   "cell_type": "code",
   "execution_count": 20,
   "id": "dfede1b6",
   "metadata": {},
   "outputs": [
    {
     "name": "stdout",
     "output_type": "stream",
     "text": [
      "Prediction Precision: 45.00%\n"
     ]
    }
   ],
   "source": [
    "import json\n",
    "import random\n",
    "from sklearn.feature_extraction.text import CountVectorizer, TfidfTransformer\n",
    "from sklearn.neighbors import KNeighborsClassifier\n",
    "from sklearn.metrics import accuracy_score, classification_report\n",
    "\n",
    "with open('15152.json', 'r', encoding='utf-8') as f:\n",
    "    movie_list = json.load(f)\n",
    "\n",
    "train_data = []\n",
    "train_labels = []\n",
    "test_data = []\n",
    "test_labels = []\n",
    "for i, movie in enumerate(movie_list):\n",
    "    if movie['label'] is not None and movie['intro'] is not None:\n",
    "        if i < 5500: # train\n",
    "            train_data.append(movie['intro'])\n",
    "            train_labels.append(movie['label'])\n",
    "        elif i > 5500 and i < 6001: # test\n",
    "            test_data.append(movie['intro'])\n",
    "            test_labels.append(movie['label'])\n",
    "\n",
    "combined = list(zip(train_data, train_labels)) # 打亂順序\n",
    "random.shuffle(combined)\n",
    "train_data[:], train_labels[:] = zip(*combined)\n",
    "\n",
    "vectorizer = CountVectorizer() # 特徵向量 TD-IDF\n",
    "tfidf_transformer = TfidfTransformer()\n",
    "X_train = tfidf_transformer.fit_transform(vectorizer.fit_transform(train_data))\n",
    "y_train = train_labels\n",
    "\n",
    "clf = KNeighborsClassifier(n_neighbors=5)\n",
    "clf.fit(X_train, y_train)\n",
    "\n",
    "X_test = tfidf_transformer.transform(vectorizer.transform(test_data))\n",
    "y_pred = clf.predict(X_test)\n",
    "\n",
    "accuracy = accuracy_score(test_labels, y_pred)\n",
    "print(f\"Prediction Precision: {accuracy:.2%}\")"
   ]
  },
  {
   "cell_type": "markdown",
   "id": "a51a9999",
   "metadata": {},
   "source": [
    "# 決策樹"
   ]
  },
  {
   "cell_type": "code",
   "execution_count": 42,
   "id": "5bc60440",
   "metadata": {},
   "outputs": [
    {
     "name": "stdout",
     "output_type": "stream",
     "text": [
      "Prediction Precision: 43.60%\n"
     ]
    }
   ],
   "source": [
    "import json\n",
    "import random\n",
    "from sklearn.feature_extraction.text import CountVectorizer, TfidfTransformer\n",
    "from sklearn.tree import DecisionTreeClassifier\n",
    "from sklearn.metrics import accuracy_score, classification_report\n",
    "\n",
    "with open('15152.json', 'r', encoding='utf-8') as f:\n",
    "    movie_list = json.load(f)\n",
    "\n",
    "train_data = []\n",
    "train_labels = []\n",
    "test_data = []\n",
    "test_labels = []\n",
    "for i, movie in enumerate(movie_list):\n",
    "    if movie['label'] is not None and movie['intro'] is not None:\n",
    "        if i < 5500: # train\n",
    "            train_data.append(movie['intro'])\n",
    "            train_labels.append(movie['label'])\n",
    "        elif i > 5500 and i < 6001: # test\n",
    "            test_data.append(movie['intro'])\n",
    "            test_labels.append(movie['label'])\n",
    "\n",
    "combined = list(zip(train_data, train_labels)) # 打亂順序\n",
    "random.shuffle(combined)\n",
    "train_data[:], train_labels[:] = zip(*combined)\n",
    "\n",
    "vectorizer = CountVectorizer() # 特徵向量 TD-IDF\n",
    "tfidf_transformer = TfidfTransformer()\n",
    "X_train = tfidf_transformer.fit_transform(vectorizer.fit_transform(train_data))\n",
    "y_train = train_labels\n",
    "\n",
    "clf = DecisionTreeClassifier()\n",
    "clf.fit(X_train, y_train)\n",
    "\n",
    "X_test = tfidf_transformer.transform(vectorizer.transform(test_data))\n",
    "y_pred = clf.predict(X_test)\n",
    "\n",
    "accuracy = accuracy_score(test_labels, y_pred)\n",
    "print(f\"Prediction Precision: {accuracy:.2%}\")"
   ]
  },
  {
   "cell_type": "markdown",
   "id": "f2f20d3c",
   "metadata": {},
   "source": [
    "# Discussion"
   ]
  },
  {
   "cell_type": "markdown",
   "id": "0b763cb7",
   "metadata": {},
   "source": [
    "我分別用了SVM kernel = linear, poly, rbf, sigmoid、KNN與決策樹來進行分類，其中SVM kernel = linear的準確率是最高的48.00%，再來是kernel = sigmoid的47.60%，第三個是KNN 45.00%。"
   ]
  },
  {
   "cell_type": "code",
   "execution_count": null,
   "id": "5b1a9ab8",
   "metadata": {},
   "outputs": [],
   "source": []
  }
 ],
 "metadata": {
  "kernelspec": {
   "display_name": "Python 3 (ipykernel)",
   "language": "python",
   "name": "python3"
  },
  "language_info": {
   "codemirror_mode": {
    "name": "ipython",
    "version": 3
   },
   "file_extension": ".py",
   "mimetype": "text/x-python",
   "name": "python",
   "nbconvert_exporter": "python",
   "pygments_lexer": "ipython3",
   "version": "3.9.7"
  },
  "papermill": {
   "default_parameters": {},
   "duration": 454.772252,
   "end_time": "2022-08-28T11:09:43.359324",
   "environment_variables": {},
   "exception": null,
   "input_path": "__notebook__.ipynb",
   "output_path": "__notebook__.ipynb",
   "parameters": {},
   "start_time": "2022-08-28T11:02:08.587072",
   "version": "2.3.4"
  }
 },
 "nbformat": 4,
 "nbformat_minor": 5
}
